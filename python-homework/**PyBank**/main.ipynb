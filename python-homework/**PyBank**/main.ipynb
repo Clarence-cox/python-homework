{
 "cells": [
  {
   "cell_type": "markdown",
   "metadata": {},
   "source": [
    "# Finacial Analysis"
   ]
  },
  {
   "cell_type": "code",
   "execution_count": 1,
   "metadata": {},
   "outputs": [],
   "source": [
    "import pandas as pd"
   ]
  },
  {
   "cell_type": "code",
   "execution_count": 2,
   "metadata": {},
   "outputs": [
    {
     "name": "stdout",
     "output_type": "stream",
     "text": [
      "       Date  Profit/Losses\n",
      "0  Jan-2010         867884\n",
      "1  Feb-2010         984655\n",
      "2  Mar-2010         322013\n",
      "3  Apr-2010         -69417\n",
      "4  May-2010         310503\n"
     ]
    }
   ],
   "source": [
    "# Load the data\n",
    "file_path = 'budget_data.csv'\n",
    "budget_data = pd.read_csv(file_path, delimiter='\\t')\n",
    "print(budget_data.head())"
   ]
  },
  {
   "cell_type": "code",
   "execution_count": 3,
   "metadata": {},
   "outputs": [],
   "source": [
    "# Calculate the total number of months included in the dataset\n",
    "total_months = budget_data['Date'].count()"
   ]
  },
  {
   "cell_type": "code",
   "execution_count": 4,
   "metadata": {},
   "outputs": [],
   "source": [
    "# Calculate the net total amount of \"Profit/Losses\" over the entire period\n",
    "total_profit = budget_data['Profit/Losses'].sum()"
   ]
  },
  {
   "cell_type": "code",
   "execution_count": 5,
   "metadata": {},
   "outputs": [],
   "source": [
    "# Calculate the changes in \"Profit/Losses\" over the entire period, then find the average of those changes\n",
    "budget_data['Change'] = budget_data['Profit/Losses'].diff()"
   ]
  },
  {
   "cell_type": "code",
   "execution_count": 6,
   "metadata": {},
   "outputs": [],
   "source": [
    "# Identify the greatest increase in profits (date and amount) over the entire period\n",
    "max_profit = budget_data['Change'].max()\n",
    "max_profit_date = budget_data.loc[budget_data['Change'] == max_profit, 'Date'].iloc[0]\n",
    "max_profit_amount = budget_data.loc[budget_data['Change'] == max_profit, 'Change'].iloc[0]"
   ]
  },
  {
   "cell_type": "code",
   "execution_count": 7,
   "metadata": {},
   "outputs": [],
   "source": [
    "# Identify the greatest decrease in losses (date and amount) over the entire period\n",
    "max_loss = budget_data['Change'].min()\n",
    "max_loss_date = budget_data.loc[budget_data['Change'] == max_loss, 'Date'].iloc[0]\n",
    "max_loss_amount = budget_data.loc[budget_data['Change'] == max_loss, 'Change'].iloc[0]"
   ]
  },
  {
   "cell_type": "code",
   "execution_count": 8,
   "metadata": {},
   "outputs": [],
   "source": [
    "# Prepare the summary table\n",
    "summary = (\n",
    "    f\"Financial Analysis\\n\",\n",
    "    f\"----------------------------\\n\",\n",
    "    f\"Total Months: {total_months}\\n\",\n",
    "    f\"Total: ${total_profit}\\n\",\n",
    "    f\"Average Change: ${budget_data['Change'].mean()}\\n\",\n",
    "    f\"Greatest Increase in Profits: {max_profit_date} (${max_profit_amount})\\n\",\n",
    "    f\"Greatest Decrease in Profits: {max_loss_date} (${max_loss_amount})\\n\"\n",
    ")"
   ]
  },
  {
   "cell_type": "code",
   "execution_count": 9,
   "metadata": {},
   "outputs": [
    {
     "name": "stdout",
     "output_type": "stream",
     "text": [
      "('Financial Analysis\\n', '----------------------------\\n', 'Total Months: 86\\n', 'Total: $38382578\\n', 'Average Change: $-2315.1176470588234\\n', 'Greatest Increase in Profits: Feb-2012 ($1926159.0)\\n', 'Greatest Decrease in Profits: Sep-2013 ($-2196167.0)\\n')\n"
     ]
    }
   ],
   "source": [
    "# Print the summary table\n",
    "print(summary)"
   ]
  },
  {
   "cell_type": "code",
   "execution_count": 10,
   "metadata": {},
   "outputs": [],
   "source": [
    "# Export the summary table to a text file\n",
    "with open('summary.txt', 'w') as file:\n",
    "    file.writelines(summary)"
   ]
  },
  {
   "cell_type": "code",
   "execution_count": null,
   "metadata": {},
   "outputs": [],
   "source": []
  }
 ],
 "metadata": {
  "kernelspec": {
   "display_name": "Python 3",
   "language": "python",
   "name": "python3"
  },
  "language_info": {
   "codemirror_mode": {
    "name": "ipython",
    "version": 3
   },
   "file_extension": ".py",
   "mimetype": "text/x-python",
   "name": "python",
   "nbconvert_exporter": "python",
   "pygments_lexer": "ipython3",
   "version": "3.10.12"
  },
  "orig_nbformat": 4
 },
 "nbformat": 4,
 "nbformat_minor": 2
}
