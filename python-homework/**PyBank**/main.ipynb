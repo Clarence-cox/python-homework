{
 "cells": [
  {
   "cell_type": "markdown",
   "metadata": {},
   "source": [
    "# Finacial Analysis"
   ]
  },
  {
   "cell_type": "code",
   "execution_count": 1,
   "metadata": {},
   "outputs": [],
   "source": [
    "import csv"
   ]
  },
  {
   "cell_type": "code",
   "execution_count": 2,
   "metadata": {},
   "outputs": [],
   "source": [
    "\n",
    "# Load the data\n",
    "file_path = 'budget_data.csv'\n",
    "with open(file_path, 'r') as csvfile:\n",
    "    reader = csv.reader(csvfile, delimiter='\\t')\n",
    "    # Read the header row\n",
    "    header = next(reader)\n",
    "    \n",
    "        # Initialize variables\n",
    "    total_months = 0\n",
    "    total_profit = 0\n",
    "    prev_profit = None\n",
    "    total_change = 0\n",
    "    max_profit_increase = {'amount': float('-inf'), 'date': ''}\n",
    "    max_profit_decrease = {'amount': float('inf'), 'date': ''}\n",
    "    \n",
    "    # Process each row\n",
    "    for row in reader:\n",
    "        date, profit = row[0], int(row[1])\n",
    "        total_months += 1\n",
    "        total_profit += profit\n",
    "        \n",
    "        # Calculate change from previous month\n",
    "        if prev_profit is not None:\n",
    "            change = profit - prev_profit\n",
    "            total_change += change\n",
    "            \n",
    "            # Check for max increase in profit\n",
    "            if change > max_profit_increase['amount']:\n",
    "                max_profit_increase = {'amount': change, 'date': date}\n",
    "            \n",
    "            # Check for max decrease in profit\n",
    "            if change < max_profit_decrease['amount']:\n",
    "                max_profit_decrease = {'amount': change, 'date': date}\n",
    "        \n",
    "        prev_profit = profit\n",
    "\n"
   ]
  },
  {
   "cell_type": "code",
   "execution_count": 3,
   "metadata": {},
   "outputs": [],
   "source": [
    "# Calculate average change\n",
    "average_change = total_change / (total_months - 1) if total_months > 1 else 0\n"
   ]
  },
  {
   "cell_type": "code",
   "execution_count": 4,
   "metadata": {},
   "outputs": [],
   "source": [
    "\n",
    "# Prepare the summary table\n",
    "summary = (\n",
    "    f\"Financial Analysis\\n\",\n",
    "    f\"----------------------------\\n\",\n",
    "    f\"Total Months: {total_months}\\n\",\n",
    "    f\"Total: ${total_profit}\\n\",\n",
    "    f\"Average Change: ${average_change:.2f}\\n\",\n",
    "    f\"Greatest Increase in Profits: {max_profit_increase['date']} (${max_profit_increase['amount']})\\n\",\n",
    "    f\"Greatest Decrease in Profits: {max_profit_decrease['date']} (${max_profit_decrease['amount']})\\n\"\n",
    ")\n"
   ]
  },
  {
   "cell_type": "code",
   "execution_count": 5,
   "metadata": {},
   "outputs": [
    {
     "name": "stdout",
     "output_type": "stream",
     "text": [
      "('Financial Analysis\\n', '----------------------------\\n', 'Total Months: 86\\n', 'Total: $38382578\\n', 'Average Change: $-2315.12\\n', 'Greatest Increase in Profits: Feb-2012 ($1926159)\\n', 'Greatest Decrease in Profits: Sep-2013 ($-2196167)\\n')\n"
     ]
    }
   ],
   "source": [
    "# Print the summary table\n",
    "print(summary)"
   ]
  },
  {
   "cell_type": "code",
   "execution_count": 6,
   "metadata": {},
   "outputs": [],
   "source": [
    "\n",
    "# Export the summary table to a text file\n",
    "with open('summary.txt', 'w') as file:\n",
    "    file.writelines(summary)\n"
   ]
  }
 ],
 "metadata": {
  "kernelspec": {
   "display_name": "Python 3",
   "language": "python",
   "name": "python3"
  },
  "language_info": {
   "codemirror_mode": {
    "name": "ipython",
    "version": 3
   },
   "file_extension": ".py",
   "mimetype": "text/x-python",
   "name": "python",
   "nbconvert_exporter": "python",
   "pygments_lexer": "ipython3",
   "version": "3.10.12"
  },
  "orig_nbformat": 4
 },
 "nbformat": 4,
 "nbformat_minor": 2
}
