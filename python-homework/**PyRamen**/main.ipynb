{
 "cells": [
  {
   "cell_type": "code",
   "execution_count": 1,
   "metadata": {},
   "outputs": [],
   "source": [
    "import pandas as pd\n",
    "from pathlib import Path\n",
    "import csv\n",
    "import numpy as np"
   ]
  },
  {
   "cell_type": "code",
   "execution_count": 2,
   "metadata": {},
   "outputs": [],
   "source": [
    "# CSV path\n",
    "menu_data_path = \"../menu_data.csv\"\n",
    "sales_data_path = \"../sales_data.csv\"\n"
   ]
  },
  {
   "cell_type": "code",
   "execution_count": 3,
   "metadata": {},
   "outputs": [
    {
     "name": "stdout",
     "output_type": "stream",
     "text": [
      "                           item    category  \\\n",
      "0                       edamame  appetizers   \n",
      "1                   house salad  appetizers   \n",
      "2       cucumber sunomono salad  appetizers   \n",
      "3  hiyashi wakame seaweed salad  appetizers   \n",
      "4                 agedashi tofu  appetizers   \n",
      "\n",
      "                                         description  price  cost  \n",
      "0                   boiled soybeans, maldon sea salt    4.0     1  \n",
      "1  mixed greens, cherry tomatoes, cucumber, house...    4.0     2  \n",
      "2  cucumber, ponzu dressing, pickled ginger sprou...    5.0     2  \n",
      "3  sweet soy-marinated wakame seaweed threads, pi...    5.0     2  \n",
      "4  tempura battered tofu, katsuobushi, tsuyu brot...    5.0     2  \n",
      "   Line_Item_ID        Date  Credit_Card_Number  Quantity  \\\n",
      "0             1  01-01-2017    7437926611570799         1   \n",
      "1             2  01-01-2017    7437926611570799         1   \n",
      "2             3  01-01-2017    8421920068932819         3   \n",
      "3             4  01-01-2017    8421920068932819         3   \n",
      "4             5  01-01-2017    4787310681569648         1   \n",
      "\n",
      "              Menu_Item  \n",
      "0      spicy miso ramen  \n",
      "1      spicy miso ramen  \n",
      "2     tori paitan ramen  \n",
      "3     tori paitan ramen  \n",
      "4  truffle butter ramen  \n"
     ]
    }
   ],
   "source": [
    "# Read in the CSV files\n",
    "menu_df = pd.read_csv(menu_data_path)\n",
    "sales_df = pd.read_csv(sales_data_path)\n",
    "print(menu_df.head())\n",
    "print(sales_df.head())"
   ]
  },
  {
   "cell_type": "code",
   "execution_count": 4,
   "metadata": {},
   "outputs": [],
   "source": [
    "# Initilialize report dictionary\n",
    "report = {}"
   ]
  },
  {
   "cell_type": "code",
   "execution_count": 5,
   "metadata": {},
   "outputs": [],
   "source": [
    "# Loop through every row in the sales data\n",
    "for index, sale in sales_df.iterrows():\n",
    "    quantity = sale[\"Quantity\"]\n",
    "    sales_item = sale[\"Menu_Item\"]\n"
   ]
  },
  {
   "cell_type": "code",
   "execution_count": 6,
   "metadata": {},
   "outputs": [],
   "source": [
    "# Initialize the key-value pairs for each new sales item\n",
    "if sales_item not in report:\n",
    "    report[sales_item] = {\n",
    "        \"01-count\": 0,\n",
    "        \"02-revenue\": 0,\n",
    "        \"03-cogs\": 0,\n",
    "        \"04-profit\": 0,\n",
    "    }"
   ]
  },
  {
   "cell_type": "code",
   "execution_count": 7,
   "metadata": {},
   "outputs": [],
   "source": [
    "  # Check if the item exists in the menu\n",
    "if sales_item in menu_df['item'].values:\n",
    "        # Retrieve the item from the menu\n",
    "        item_row = menu_df[menu_df['item'] == sales_item]\n",
    "        price = item_row['price'].values[0]\n",
    "        cost = item_row['cost'].values[0]\n",
    "        profit = price - cost\n",
    "        \n",
    "        # Cumulatively add the values to the corresponding metrics in the report\n",
    "        report[sales_item][\"01-count\"] += quantity\n",
    "        report[sales_item][\"02-revenue\"] += price * quantity\n",
    "        report[sales_item][\"03-cogs\"] += cost * quantity\n",
    "        report[sales_item][\"04-profit\"] += profit * quantity\n",
    "else:\n",
    "        # Print message if sales_item does not match any item in the menu\n",
    "        print(f\"{sales_item} does not equal any item in the menu! NO MATCH!\")\n",
    "\n",
    "    \n",
    " "
   ]
  },
  {
   "cell_type": "code",
   "execution_count": 9,
   "metadata": {},
   "outputs": [],
   "source": [
    "# Writing report to a text file\n",
    "report_file_path = '../report.txt'\n",
    "with open(report_file_path, 'w') as file:\n",
    "    for key, value in report.items():\n",
    "        # Formatting each line as 'item_name {metrics}'\n",
    "        line = f\"{key} {value}\\n\"\n",
    "        file.write(line)"
   ]
  }
 ],
 "metadata": {
  "kernelspec": {
   "display_name": "dev",
   "language": "python",
   "name": "python3"
  },
  "language_info": {
   "codemirror_mode": {
    "name": "ipython",
    "version": 3
   },
   "file_extension": ".py",
   "mimetype": "text/x-python",
   "name": "python",
   "nbconvert_exporter": "python",
   "pygments_lexer": "ipython3",
   "version": "3.10.12"
  }
 },
 "nbformat": 4,
 "nbformat_minor": 2
}
