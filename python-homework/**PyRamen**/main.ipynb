{
 "cells": [
  {
   "cell_type": "code",
   "execution_count": 1,
   "metadata": {},
   "outputs": [],
   "source": [
    "import csv\n",
    "from pathlib import Path"
   ]
  },
  {
   "cell_type": "code",
   "execution_count": 2,
   "metadata": {},
   "outputs": [],
   "source": [
    "\n",
    "# CSV path\n",
    "menu_data_path = \"../menu_data.csv\"\n",
    "sales_data_path = \"../sales_data.csv\""
   ]
  },
  {
   "cell_type": "code",
   "execution_count": 3,
   "metadata": {},
   "outputs": [],
   "source": [
    "\n",
    "# Function to read CSV and return a list of dictionaries\n",
    "def read_csv_to_dict(file_path, delimiter=','):\n",
    "    with open(file_path, mode='r') as infile:\n",
    "        reader = csv.DictReader(infile, delimiter=delimiter)\n",
    "        return list(reader)"
   ]
  },
  {
   "cell_type": "code",
   "execution_count": 4,
   "metadata": {},
   "outputs": [],
   "source": [
    "\n",
    "# Read in the CSV files\n",
    "menu_data = read_csv_to_dict(menu_data_path)\n",
    "sales_data = read_csv_to_dict(sales_data_path)"
   ]
  },
  {
   "cell_type": "code",
   "execution_count": 10,
   "metadata": {},
   "outputs": [],
   "source": [
    "# Initialize report dictionary\n",
    "report = {}"
   ]
  },
  {
   "cell_type": "code",
   "execution_count": 12,
   "metadata": {},
   "outputs": [],
   "source": [
    "# Preparing a menu item dictionary for faster lookup\n",
    "menu_item_data = {item['item']: item for item in menu_data}"
   ]
  },
  {
   "cell_type": "code",
   "execution_count": 19,
   "metadata": {},
   "outputs": [],
   "source": [
    "# Loop through every row in the sales data\n",
    "for sale in sales_data:\n",
    "    quantity = int(sale[\"Quantity\"])\n",
    "    sales_item = sale[\"Menu_Item\"]\n",
    "    \n",
    "    # Initialize the key-value pairs for each new sales item\n",
    "    if sales_item not in report:\n",
    "        report[sales_item] = {\n",
    "            \"01-count\": 0,\n",
    "            \"02-revenue\": 0,\n",
    "            \"03-cogs\": 0,\n",
    "            \"04-profit\": 0,\n",
    "        }\n",
    "        \n",
    "# Initialize report dictionary\n",
    "report = {}\n",
    "\n",
    "# Preparing a menu item dictionary for faster lookup\n",
    "menu_item_data = {item['item']: item for item in menu_data}\n",
    "\n",
    "# Loop through every row in the sales data\n",
    "for sale in sales_data:\n",
    "    quantity = int(sale[\"Quantity\"])\n",
    "    sales_item = sale[\"Menu_Item\"]\n",
    "    \n",
    "    # Initialize the key-value pairs for each new sales item\n",
    "    if sales_item not in report:\n",
    "        report[sales_item] = {\n",
    "            \"01-count\": 0,\n",
    "            \"02-revenue\": 0,\n",
    "            \"03-cogs\": 0,\n",
    "            \"04-profit\": 0,\n",
    "        }\n",
    "\n",
    "    # Check if the item exists in the menu\n",
    "    if sales_item in menu_item_data:\n",
    "        item_row = menu_item_data[sales_item]\n",
    "        price = float(item_row['price'])\n",
    "        cost = float(item_row['cost'])\n",
    "        profit = price - cost\n",
    "        \n",
    "        # Cumulatively add the values to the corresponding metrics in the report\n",
    "        report[sales_item][\"01-count\"] += quantity\n",
    "        report[sales_item][\"02-revenue\"] += price * quantity\n",
    "        report[sales_item][\"03-cogs\"] += cost * quantity\n",
    "        report[sales_item][\"04-profit\"] += profit * quantity\n",
    "    else:\n",
    "        # Print message if sales_item does not match any item in the menu\n",
    "        print(f\"{sales_item} does not equal any item in the menu! NO MATCH!\")\n"
   ]
  },
  {
   "cell_type": "code",
   "execution_count": 20,
   "metadata": {},
   "outputs": [],
   "source": [
    "\n",
    "# Writing report to a text file\n",
    "report_file_path = '../report.txt'\n",
    "with open(report_file_path, 'w') as file:\n",
    "    for key, value in report.items():\n",
    "        # Formatting each line as 'item_name {metrics}'\n",
    "        line = f\"{key} {value}\\\\n\"\n",
    "        file.write(line)\n"
   ]
  }
 ],
 "metadata": {
  "kernelspec": {
   "display_name": "dev",
   "language": "python",
   "name": "python3"
  },
  "language_info": {
   "codemirror_mode": {
    "name": "ipython",
    "version": 3
   },
   "file_extension": ".py",
   "mimetype": "text/x-python",
   "name": "python",
   "nbconvert_exporter": "python",
   "pygments_lexer": "ipython3",
   "version": "3.10.12"
  }
 },
 "nbformat": 4,
 "nbformat_minor": 2
}
